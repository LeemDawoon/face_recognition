{
 "cells": [
  {
   "cell_type": "markdown",
   "metadata": {},
   "source": [
    "## <모듈 import 및 전역 변수 선언>"
   ]
  },
  {
   "cell_type": "code",
   "execution_count": 1,
   "metadata": {},
   "outputs": [
    {
     "name": "stderr",
     "output_type": "stream",
     "text": [
      "Using TensorFlow backend.\n"
     ]
    }
   ],
   "source": [
    "import os\n",
    "import pandas as pd\n",
    "import matplotlib.pyplot as plt\n",
    "%matplotlib inline\n",
    "import numpy as np\n",
    "from tqdm import tqdm\n",
    "from tensorflow.keras.models import load_model, Model\n",
    "from tensorflow.keras import backend as K\n",
    "from tensorflow.keras.preprocessing import image\n",
    "from tensorflow.keras.applications.densenet import preprocess_input\n",
    "\n",
    "from mtcnn.mtcnn import MTCNN\n",
    "\n",
    "PATH = '../../data/img_celeba_preprocess'\n",
    "FACE_DEFAULT_SHAPE = (224, 224)\n",
    "\n",
    "train_df = pd.read_csv('./labels/train.pre.small.csv')\n",
    "valid_df = pd.read_csv('./labels/valid.pre.small.csv')"
   ]
  },
  {
   "cell_type": "code",
   "execution_count": 2,
   "metadata": {},
   "outputs": [],
   "source": [
    "import tensorflow as tf\n",
    "\n",
    "gpus = tf.config.experimental.list_physical_devices('GPU')\n",
    "if gpus:\n",
    "    try:\n",
    "        tf.config.experimental.set_virtual_device_configuration(\n",
    "        gpus[0],\n",
    "        [tf.config.experimental.VirtualDeviceConfiguration(memory_limit=1024)])\n",
    "    except RuntimeError as e:\n",
    "        print(e)"
   ]
  },
  {
   "cell_type": "markdown",
   "metadata": {},
   "source": [
    "## <모델 로드>"
   ]
  },
  {
   "cell_type": "code",
   "execution_count": 3,
   "metadata": {},
   "outputs": [
    {
     "name": "stdout",
     "output_type": "stream",
     "text": [
      "Model: \"model\"\n",
      "_________________________________________________________________\n",
      "Layer (type)                 Output Shape              Param #   \n",
      "=================================================================\n",
      "anchor (InputLayer)          [(None, 224, 224, 3)]     0         \n",
      "_________________________________________________________________\n",
      "model (Model)                (None, 128)               13561024  \n",
      "=================================================================\n",
      "Total params: 13,561,024\n",
      "Trainable params: 13,402,624\n",
      "Non-trainable params: 158,400\n",
      "_________________________________________________________________\n"
     ]
    }
   ],
   "source": [
    "detector = MTCNN()\n",
    "model = load_model('outputs/siamese.densenet169.h5', compile=False)\n",
    "inp = model.input[0]\n",
    "base_model = model.layers[3]\n",
    "infer_model = Model(inp, base_model(inp))\n",
    "infer_model.summary()"
   ]
  },
  {
   "cell_type": "markdown",
   "metadata": {},
   "source": [
    "## <데이터 임베딩>"
   ]
  },
  {
   "cell_type": "code",
   "execution_count": 4,
   "metadata": {},
   "outputs": [
    {
     "name": "stderr",
     "output_type": "stream",
     "text": [
      "133it [00:22,  5.80it/s]\n"
     ]
    }
   ],
   "source": [
    "preds = np.zeros( (len(valid_df), 128))\n",
    "for k, file in tqdm(enumerate(valid_df['image'])):\n",
    "    img = image.load_img(os.path.join(PATH, file))\n",
    "    img = image.img_to_array(img)\n",
    "    x = np.expand_dims(img, axis=0)\n",
    "    x = preprocess_input(x)\n",
    "    preds[k] = infer_model.predict(x)[0]\n",
    "\n",
    "np.save('outputs/valid_vec.small.128', preds)"
   ]
  },
  {
   "cell_type": "code",
   "execution_count": 5,
   "metadata": {},
   "outputs": [
    {
     "name": "stderr",
     "output_type": "stream",
     "text": [
      "1073it [02:04,  8.61it/s]\n"
     ]
    }
   ],
   "source": [
    "preds = np.zeros( (len(train_df), 128))\n",
    "for k, file in tqdm(enumerate(train_df['image'])):\n",
    "    img = image.load_img(os.path.join(PATH, file))\n",
    "    img = image.img_to_array(img)\n",
    "    x = np.expand_dims(img, axis=0)\n",
    "    x = preprocess_input(x)\n",
    "    preds[k] = infer_model.predict(x)[0]\n",
    "\n",
    "np.save('outputs/train_vec.small.128', preds)"
   ]
  },
  {
   "cell_type": "code",
   "execution_count": null,
   "metadata": {},
   "outputs": [],
   "source": []
  }
 ],
 "metadata": {
  "kernelspec": {
   "display_name": "Python 3",
   "language": "python",
   "name": "python3"
  },
  "language_info": {
   "codemirror_mode": {
    "name": "ipython",
    "version": 3
   },
   "file_extension": ".py",
   "mimetype": "text/x-python",
   "name": "python",
   "nbconvert_exporter": "python",
   "pygments_lexer": "ipython3",
   "version": "3.6.10"
  }
 },
 "nbformat": 4,
 "nbformat_minor": 4
}
