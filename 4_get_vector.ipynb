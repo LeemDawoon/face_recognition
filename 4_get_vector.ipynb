{
 "cells": [
  {
   "cell_type": "code",
   "execution_count": 1,
   "metadata": {},
   "outputs": [
    {
     "name": "stderr",
     "output_type": "stream",
     "text": [
      "Using TensorFlow backend.\n"
     ]
    }
   ],
   "source": [
    "import os\n",
    "import pandas as pd\n",
    "import matplotlib.pyplot as plt\n",
    "%matplotlib inline\n",
    "import numpy as np\n",
    "from tqdm import tqdm\n",
    "from tensorflow.keras.models import load_model, Model\n",
    "from tensorflow.keras import backend as K\n",
    "from tensorflow.keras.preprocessing import image\n",
    "from tensorflow.keras.applications.densenet import preprocess_input\n",
    "\n",
    "from mtcnn.mtcnn import MTCNN\n",
    "# Path to celeb dataset\n",
    "PATH = '../data/img_celeba_preprocess'\n",
    "# celeb_data = pd.read_csv('identity_CelebA.txt', sep=\" \", header=None)\n",
    "# celeb_data.columns = [\"image\", \"label\"]\n",
    "# train_df = pd.read_csv('train.csv')\n",
    "# valid_df = pd.read_csv('valid.csv')\n",
    "\n",
    "# train_df = pd.read_csv('./labels/train.pre.small.csv')\n",
    "# valid_df = pd.read_csv('./labels/valid.pre.small.csv')\n",
    "train_df = pd.read_csv('./labels/train.pre.csv')\n",
    "valid_df = pd.read_csv('./labels/valid.pre.csv')"
   ]
  },
  {
   "cell_type": "code",
   "execution_count": 2,
   "metadata": {},
   "outputs": [],
   "source": [
    "import tensorflow as tf\n",
    "# dir(tf.keras.applications)\n",
    "\n",
    "gpus = tf.config.experimental.list_physical_devices('GPU')\n",
    "if gpus:\n",
    "    # 텐서플로가 첫 번째 GPU에 1GB 메모리만 할당하도록 제한\n",
    "    try:\n",
    "        tf.config.experimental.set_virtual_device_configuration(\n",
    "        gpus[0],\n",
    "        [tf.config.experimental.VirtualDeviceConfiguration(memory_limit=1024)])\n",
    "    except RuntimeError as e:\n",
    "        # 프로그램 시작시에 가장 장치가 설정되어야만 합니다\n",
    "        print(e)"
   ]
  },
  {
   "cell_type": "markdown",
   "metadata": {},
   "source": [
    "#### Visualize few images of the same person"
   ]
  },
  {
   "cell_type": "code",
   "execution_count": 4,
   "metadata": {},
   "outputs": [
    {
     "name": "stdout",
     "output_type": "stream",
     "text": [
      "Model: \"model\"\n",
      "_________________________________________________________________\n",
      "Layer (type)                 Output Shape              Param #   \n",
      "=================================================================\n",
      "anchor (InputLayer)          [(None, 224, 224, 3)]     0         \n",
      "_________________________________________________________________\n",
      "model (Model)                (None, 128)               13561024  \n",
      "=================================================================\n",
      "Total params: 13,561,024\n",
      "Trainable params: 13,402,624\n",
      "Non-trainable params: 158,400\n",
      "_________________________________________________________________\n"
     ]
    }
   ],
   "source": [
    "detector = MTCNN()\n",
    "# model = load_model('outputs/siamese.densenet169.v5.h5', compile=False)\n",
    "model = load_model('outputs/siamese.densenet169.all.v5.h5', compile=False)\n",
    "\n",
    "inp = model.input[0]\n",
    "base_model = model.layers[3]\n",
    "infer_model = Model(inp, base_model(inp))\n",
    "infer_model.summary()"
   ]
  },
  {
   "cell_type": "code",
   "execution_count": 6,
   "metadata": {},
   "outputs": [
    {
     "name": "stderr",
     "output_type": "stream",
     "text": [
      "6404it [06:18, 16.94it/s]\n"
     ]
    }
   ],
   "source": [
    "# Load pre-trained model\n",
    "# model = load_model('siamese_xception.model.h5', compile=False)\n",
    "import cv2\n",
    "FACE_DEFAULT_SHAPE = (224, 224)\n",
    "\n",
    "preds = np.zeros( (len(valid_df), 128))\n",
    "for k, file in tqdm(enumerate(valid_df['image'])):\n",
    "    img = image.load_img(os.path.join(PATH, file))\n",
    "    img = image.img_to_array(img)\n",
    "    # new_img = preprocess(detector, img, FACE_DEFAULT_SHAPE)\n",
    "    x = np.expand_dims(img, axis=0)\n",
    "    x = preprocess_input(x)\n",
    "    preds[k] = infer_model.predict(x)[0]\n",
    "\n",
    "# np.save('outputs/valid_vec.128', preds)\n",
    "np.save('outputs/valid_vec.all.128', preds)"
   ]
  },
  {
   "cell_type": "code",
   "execution_count": 7,
   "metadata": {},
   "outputs": [
    {
     "name": "stderr",
     "output_type": "stream",
     "text": [
      "51179it [49:36, 17.20it/s]\n"
     ]
    }
   ],
   "source": [
    "# Load pre-trained model\n",
    "# model = load_model('siamese_xception.model.h5', compile=False)\n",
    "import cv2\n",
    "FACE_DEFAULT_SHAPE = (224, 224)\n",
    "\n",
    "preds = np.zeros( (len(train_df), 128))\n",
    "for k, file in tqdm(enumerate(train_df['image'])):\n",
    "    img = image.load_img(os.path.join(PATH, file))\n",
    "    img = image.img_to_array(img)\n",
    "    # new_img = preprocess(detector, img, FACE_DEFAULT_SHAPE)\n",
    "    x = np.expand_dims(img, axis=0)\n",
    "    x = preprocess_input(x)\n",
    "    preds[k] = infer_model.predict(x)[0]\n",
    "\n",
    "# np.save('outputs/train_vec.128', preds)\n",
    "np.save('outputs/train_vec.all.128', preds)"
   ]
  },
  {
   "cell_type": "code",
   "execution_count": null,
   "metadata": {},
   "outputs": [],
   "source": []
  }
 ],
 "metadata": {
  "kernelspec": {
   "display_name": "Python 3",
   "language": "python",
   "name": "python3"
  },
  "language_info": {
   "codemirror_mode": {
    "name": "ipython",
    "version": 3
   },
   "file_extension": ".py",
   "mimetype": "text/x-python",
   "name": "python",
   "nbconvert_exporter": "python",
   "pygments_lexer": "ipython3",
   "version": "3.6.7"
  }
 },
 "nbformat": 4,
 "nbformat_minor": 4
}
